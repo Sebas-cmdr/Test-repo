{
 "cells": [
  {
   "cell_type": "markdown",
   "id": "02166327-4845-49d8-9733-fb3cf0122928",
   "metadata": {},
   "source": [
    "# Data Science Tools and Ecosystem"
   ]
  },
  {
   "cell_type": "markdown",
   "id": "d910f8e1-7c99-4348-b395-5de3ec431558",
   "metadata": {},
   "source": [
    "In this notebook, Data Science Tools and Ecosystem are summarized."
   ]
  },
  {
   "cell_type": "markdown",
   "id": "28efbf20-cb6e-4524-b469-7f9363a44f71",
   "metadata": {},
   "source": [
    "**Objectives**\n",
    "- List popular languages for Data Science\n",
    "- List popular libraries foe Data Science\n",
    "- Data Science Tools"
   ]
  },
  {
   "cell_type": "markdown",
   "id": "5fd656cb-00a5-47ea-92fd-f30a01055e35",
   "metadata": {},
   "source": [
    "Some of the popular languages that Data Scientists use are: \n",
    "1. Python\n",
    "2. R\n",
    "3. Julia\n",
    "4. Java\n",
    "5. C++\n",
    "6. MATLAB"
   ]
  },
  {
   "cell_type": "markdown",
   "id": "139dcf96-cd12-4344-9617-c58c685840eb",
   "metadata": {},
   "source": [
    "Some of the commonly used libraries used by Data Scientists include:\n",
    "1. Matplotlib\n",
    "2. NumPy\n",
    "3. Pandas\n",
    "4. Scikit\n",
    "5. TensorFlow\n",
    "6. SciPy"
   ]
  },
  {
   "cell_type": "markdown",
   "id": "3a4a2c98-10ec-47e8-a2bd-bbadea796cf3",
   "metadata": {},
   "source": [
    "|Data Science Tools|\n",
    "|-|\n",
    "|RStudio|\n",
    "|Spyder|\n",
    "|PyCharm|"
   ]
  },
  {
   "cell_type": "markdown",
   "id": "d32c5d1a-fdb4-42a6-985e-b1873cdb7a55",
   "metadata": {},
   "source": [
    "### Below are a few examples of evaluating arithmetic expressions in Python"
   ]
  },
  {
   "cell_type": "code",
   "execution_count": 9,
   "id": "b3c47ded-a60d-44a7-a80e-6e74c690f7d6",
   "metadata": {},
   "outputs": [
    {
     "data": {
      "text/plain": [
       "17"
      ]
     },
     "execution_count": 9,
     "metadata": {},
     "output_type": "execute_result"
    }
   ],
   "source": [
    "# This is a simple arithmetic expression to multiply then add integers.\n",
    "3*4+5"
   ]
  },
  {
   "cell_type": "code",
   "execution_count": 13,
   "id": "215f5faf-d709-4ada-becf-be80c2f73da6",
   "metadata": {},
   "outputs": [
    {
     "name": "stdout",
     "output_type": "stream",
     "text": [
      "3.3333333333333335\n"
     ]
    }
   ],
   "source": [
    "# This will convert 200 minutes to hours by dividing by 60\n",
    "minutes = 200\n",
    "hours = minutes / 60\n",
    "print(hours)"
   ]
  },
  {
   "cell_type": "markdown",
   "id": "0b74845c-4e8d-46f5-a2c0-406dd47f2634",
   "metadata": {},
   "source": [
    "## Author\n",
    "Sebastian Schworm"
   ]
  },
  {
   "cell_type": "code",
   "execution_count": null,
   "id": "ba03ae00-b378-43cf-8346-d5f64e75763b",
   "metadata": {},
   "outputs": [],
   "source": []
  }
 ],
 "metadata": {
  "kernelspec": {
   "display_name": "Python 3 (ipykernel)",
   "language": "python",
   "name": "python3"
  },
  "language_info": {
   "codemirror_mode": {
    "name": "ipython",
    "version": 3
   },
   "file_extension": ".py",
   "mimetype": "text/x-python",
   "name": "python",
   "nbconvert_exporter": "python",
   "pygments_lexer": "ipython3",
   "version": "3.12.4"
  }
 },
 "nbformat": 4,
 "nbformat_minor": 5
}
